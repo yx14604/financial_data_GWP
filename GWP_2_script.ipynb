{
 "cells": [
  {
   "cell_type": "markdown",
   "id": "5d901ffe",
   "metadata": {},
   "source": [
    "Please refer GWP 1 and edit this script for GWP 2. The coding logic should be almost the same. Please make sure you commit & push your changes, Otherwise the others won;t see the updated version of the script."
   ]
  },
  {
   "cell_type": "code",
   "execution_count": null,
   "id": "57f01f54",
   "metadata": {},
   "outputs": [],
   "source": [
    "import datetime\n",
    "\n",
    "import numpy as np\n",
    "import pandas as pd\n",
    "import pandas_datareader.data as web\n",
    "import seaborn as sns\n",
    "import yfinance as yfin\n",
    "import quandl as qd\n",
    "from scipy import stats\n",
    "from matplotlib import pyplot as plt\n",
    "import matplotlib.dates as mdates"
   ]
  }
 ],
 "metadata": {
  "kernelspec": {
   "display_name": "Python 3 (ipykernel)",
   "language": "python",
   "name": "python3"
  },
  "language_info": {
   "codemirror_mode": {
    "name": "ipython",
    "version": 3
   },
   "file_extension": ".py",
   "mimetype": "text/x-python",
   "name": "python",
   "nbconvert_exporter": "python",
   "pygments_lexer": "ipython3",
   "version": "3.11.2"
  }
 },
 "nbformat": 4,
 "nbformat_minor": 5
}
