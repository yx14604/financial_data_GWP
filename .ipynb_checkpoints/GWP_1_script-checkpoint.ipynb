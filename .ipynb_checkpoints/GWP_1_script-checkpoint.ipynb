{
 "cells": [
  {
   "cell_type": "markdown",
   "id": "ed6052d2",
   "metadata": {},
   "source": [
    "Our first GWP starts from here!"
   ]
  },
  {
   "cell_type": "code",
   "execution_count": 2,
   "id": "82126b46",
   "metadata": {},
   "outputs": [],
   "source": [
    "import datetime\n",
    "\n",
    "import numpy as np\n",
    "import pandas as pd\n",
    "import pandas_datareader.data as web\n",
    "import seaborn as sns\n",
    "import yfinance as yfin\n",
    "import quandl as qd\n",
    "from scipy import stats\n",
    "\n",
    "yfin.pdr_override()"
   ]
  },
  {
   "cell_type": "markdown",
   "id": "90bb9bbd",
   "metadata": {},
   "source": [
    "Scenario 1: money at a fixed rate for an unsecured purchase.\n",
    "\n",
    "Data: credit card balances due each month for assessing default risk.\n",
    "Data Type: Economic\n",
    "Data Processing: Percentages\n",
    "Data Frequency: Monthly\n",
    "Data Class: Credit\n",
    "Data Source: Federal Reserve\n",
    "Data Variety: Credit card delinquency rates"
   ]
  },
  {
   "cell_type": "code",
   "execution_count": 54,
   "id": "ce5ca74e",
   "metadata": {},
   "outputs": [
    {
     "name": "stdout",
     "output_type": "stream",
     "text": [
      "   Period  Rate\n",
      "0  1985Q2  4.92\n",
      "1  1985Q3  4.91\n",
      "2  1985Q4  4.77\n",
      "3  1986Q1  4.86\n",
      "4  1986Q2  4.74\n"
     ]
    }
   ],
   "source": [
    "# File path is unique, it is where you save the file on you own PC, so make sure change it!\n",
    "file_path = 'D:\\Job hunting\\Learning materials\\WQ Financial Engineering\\Financial Data\\GWP_1\\data'\n",
    "file_name = 'FRB_CHGDEL.csv'\n",
    "delinquency_rate = pd.read_csv(f\"{file_path}\\\\{file_name}\").iloc[6:, 0:2].reset_index(drop = True)\n",
    "delinquency_rate.columns = ['Period', 'Rate']\n",
    "print(delinquency_rate.head())"
   ]
  },
  {
   "cell_type": "markdown",
   "id": "d17b091c",
   "metadata": {},
   "source": [
    "Scenario 2: money at a floating rate for a secured purchase\n",
    "\n",
    "Data: monthly home values for assessing collateral risk of a mortgage\n",
    "Data Type: Economic\n",
    "Data Processing: Percentage\n",
    "Data Frequency: Monthly\n",
    "Data Class: Real Estate\n",
    "Data Source: Federal Agencies\n",
    "Data Variety: Home price indexes"
   ]
  },
  {
   "cell_type": "code",
   "execution_count": 52,
   "id": "5de33f7f",
   "metadata": {},
   "outputs": [
    {
     "name": "stdout",
     "output_type": "stream",
     "text": [
      "   Year  Price index\n",
      "0  1991       100.00\n",
      "1  1991       100.95\n",
      "2  1991       100.92\n",
      "3  1991       100.98\n",
      "4  1991       101.36\n"
     ]
    }
   ],
   "source": [
    "file_name = 'HPI_master.csv'\n",
    "house_price = pd.read_csv(f\"{file_path}\\\\{file_name}\")\n",
    "house_price = house_price[house_price['frequency'] == 'monthly'][['yr', 'index_sa']]\n",
    "house_price.columns = ['Year', 'Price index']\n",
    "print(house_price.head())"
   ]
  },
  {
   "cell_type": "markdown",
   "id": "b80be593",
   "metadata": {},
   "source": [
    "Scenario 3: money at a fixed rate for a business for a construction loan\n",
    "\n",
    "Data:  Real Estate Loans: Commercial Real Estate Loans: Construction and Land Development Loans, All Commercial Banks (CLDACBW027SBOG)\n",
    "Data Type: Loan Documents\n",
    "Data Processing: Loan Agreement Details (rate, duration, amortization, appraisal price, collateral)\n",
    "Data Frequency: Monthly Loan  Statement & Construction Progress Report\n",
    "Data Class: Financial Contract\n",
    "Data Source: Loan Documentation, Records from Banks/ Financial Institution, City Records of Permit Approval / Contractor License & Insurance Information\n",
    "Data Variety: Actual Data, Observed Data"
   ]
  },
  {
   "cell_type": "code",
   "execution_count": 55,
   "id": "a184985e",
   "metadata": {},
   "outputs": [
    {
     "name": "stdout",
     "output_type": "stream",
     "text": [
      "         DATE      Loan\n",
      "0  2015-01-07  223.6501\n",
      "1  2015-01-14  224.3909\n",
      "2  2015-01-21  225.2721\n",
      "3  2015-01-28  226.1358\n",
      "4  2015-02-04  226.9754\n"
     ]
    }
   ],
   "source": [
    "file_name = 'CLDACBW027SBOG.csv'\n",
    "real_estate_loan = pd.read_csv(f\"{file_path}\\\\{file_name}\")\n",
    "real_estate_loan.rename(columns = {'CLDACBW027SBOG': 'Loan'}, inplace = True)\n",
    "print(real_estate_loan.head())"
   ]
  },
  {
   "cell_type": "markdown",
   "id": "290fcbd2",
   "metadata": {},
   "source": [
    "Scenario 4: publicly traded Equity\n",
    "\n",
    "Data:  TSLA share price\n",
    "Data Type: Stock Market Performance \n",
    "Data Processing: Market Price, \n",
    "Data Frequency: Trading Hours (Real-Time) \n",
    "Data Class: Financial Markets Data \n",
    "Data Source: Yahoo\n",
    "Data Variety: Actual Data "
   ]
  },
  {
   "cell_type": "code",
   "execution_count": 57,
   "id": "30337473",
   "metadata": {},
   "outputs": [
    {
     "name": "stderr",
     "output_type": "stream",
     "text": [
      "\r",
      "[*********************100%%**********************]  1 of 1 completed"
     ]
    },
    {
     "name": "stdout",
     "output_type": "stream",
     "text": [
      "            Tesla return\n",
      "Date                    \n",
      "2023-01-04      0.051249\n",
      "2023-01-05     -0.029039\n",
      "2023-01-06      0.024651\n",
      "2023-01-09      0.059349\n",
      "2023-01-10     -0.007681\n"
     ]
    },
    {
     "name": "stderr",
     "output_type": "stream",
     "text": [
      "\n"
     ]
    }
   ],
   "source": [
    "# Setting the timeframe for the data\n",
    "start_date = datetime.date(2023, 1, 1)\n",
    "end_date = datetime.date(2023, 12, 31)\n",
    "tesla_price = pd.DataFrame(web.DataReader('TSLA', start_date, end_date)[\"Adj Close\"])\n",
    "tesla_return = tesla_price.pct_change().dropna()\n",
    "tesla_return = tesla_return.rename(columns={\"Adj Close\": \"Tesla return\"})\n",
    "\n",
    "print(tesla_return.head())"
   ]
  },
  {
   "cell_type": "markdown",
   "id": "f6d49296",
   "metadata": {},
   "source": [
    "Scenario 5: publicly traded bond\n",
    "\n",
    "Data: Treasury Yield 30 Years\n",
    "Data Type: Asset\n",
    "Data Processing: Raw Prices\n",
    "Data Frequency: Intraday, Daily\n",
    "Data Class: Fixed Income\n",
    "Data Source: Yahoo\n",
    "Data Variety: Trade Data, Actual Data"
   ]
  },
  {
   "cell_type": "code",
   "execution_count": 58,
   "id": "18c5e330",
   "metadata": {},
   "outputs": [
    {
     "name": "stderr",
     "output_type": "stream",
     "text": [
      "\r",
      "[*********************100%%**********************]  1 of 1 completed"
     ]
    },
    {
     "name": "stdout",
     "output_type": "stream",
     "text": [
      "            Bond return\n",
      "Date                   \n",
      "2023-01-04    -0.018752\n",
      "2023-01-05    -0.005759\n",
      "2023-01-06    -0.027909\n",
      "2023-01-09    -0.011376\n",
      "2023-01-10     0.029315\n"
     ]
    },
    {
     "name": "stderr",
     "output_type": "stream",
     "text": [
      "\n"
     ]
    }
   ],
   "source": [
    "# Setting the timeframe for the data\n",
    "start_date = datetime.date(2023, 1, 1)\n",
    "end_date = datetime.date(2023, 12, 31)\n",
    "\n",
    "bond_price = pd.DataFrame(web.DataReader('^TYX', start_date, end_date)[\"Adj Close\"])\n",
    "bond_return = bond_price.pct_change().dropna()\n",
    "bond_return = bond_return.rename(columns={\"Adj Close\": \"Bond return\"})\n",
    "\n",
    "print(bond_return.head())"
   ]
  },
  {
   "cell_type": "markdown",
   "id": "c7fa2f54",
   "metadata": {},
   "source": [
    "Scenario 6: an illiquid security\n",
    "\n",
    "Data: Home value in Wenatchee\n",
    "Data Type: Asset\n",
    "Data Processing: Estimated Valuations\n",
    "Data Frequency: Monthly\n",
    "Data Class: Real Estate\n",
    "Data Source: Quandl\n",
    "Data Variety: Estimated Data, Modeled Data"
   ]
  },
  {
   "cell_type": "code",
   "execution_count": 60,
   "id": "c001b9f3",
   "metadata": {},
   "outputs": [
    {
     "name": "stdout",
     "output_type": "stream",
     "text": [
      "          date          value    change\n",
      "1   2005-02-28  166047.000000 -0.000427\n",
      "2   2005-03-31  166757.000000  0.004276\n",
      "3   2005-04-30  168061.000000  0.007820\n",
      "4   2005-05-31  170799.000000  0.016292\n",
      "5   2005-06-30  173373.000000  0.015070\n",
      "..         ...            ...       ...\n",
      "222 2023-07-31  475006.583756  0.000417\n",
      "223 2023-08-31  473796.644134 -0.002547\n",
      "224 2023-09-30  471415.057884 -0.005027\n",
      "225 2023-10-31  468537.272405 -0.006105\n",
      "226 2023-11-30  465555.180963 -0.006365\n",
      "\n",
      "[226 rows x 3 columns]\n"
     ]
    }
   ],
   "source": [
    "qd.ApiConfig.api_key = 'qQe_PTGQRatZoLWNRbKa'\n",
    "\n",
    "# Home value in Wenatchee\n",
    "# real_estate_indicator = qd.get_table('ZILLOW/INDICATORS')\n",
    "real_estate_price = qd.get_table('ZILLOW/DATA',indicator_id=['ZALL'], region_id = '99999').sort_values(by = 'date').reset_index(drop = True)\n",
    "real_estate_price['change'] = real_estate_price['value'].pct_change()\n",
    "real_estate_price.dropna(inplace = True)\n",
    "real_estate_price = real_estate_price[['date', 'value', 'change']]\n",
    "print(real_estate_price)\n",
    "# print(real_estate_indicator)"
   ]
  },
  {
   "cell_type": "code",
   "execution_count": null,
   "id": "a5cc5ae3",
   "metadata": {},
   "outputs": [],
   "source": []
  }
 ],
 "metadata": {
  "kernelspec": {
   "display_name": "Python 3 (ipykernel)",
   "language": "python",
   "name": "python3"
  },
  "language_info": {
   "codemirror_mode": {
    "name": "ipython",
    "version": 3
   },
   "file_extension": ".py",
   "mimetype": "text/x-python",
   "name": "python",
   "nbconvert_exporter": "python",
   "pygments_lexer": "ipython3",
   "version": "3.11.2"
  }
 },
 "nbformat": 4,
 "nbformat_minor": 5
}
