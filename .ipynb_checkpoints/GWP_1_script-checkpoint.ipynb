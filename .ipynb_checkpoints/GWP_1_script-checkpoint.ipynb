{
 "cells": [
  {
   "cell_type": "markdown",
   "id": "ed6052d2",
   "metadata": {},
   "source": [
    "Our first GWP starts from here!"
   ]
  },
  {
   "cell_type": "code",
   "execution_count": 17,
   "id": "82126b46",
   "metadata": {},
   "outputs": [],
   "source": [
    "import datetime\n",
    "\n",
    "import numpy as np\n",
    "import pandas as pd\n",
    "import pandas_datareader.data as web\n",
    "import seaborn as sns\n",
    "import yfinance as yfin\n",
    "import quandl as qd\n",
    "from scipy import stats\n",
    "\n",
    "yfin.pdr_override()"
   ]
  },
  {
   "cell_type": "code",
   "execution_count": 60,
   "id": "18c5e330",
   "metadata": {},
   "outputs": [
    {
     "name": "stderr",
     "output_type": "stream",
     "text": [
      "\r",
      "[*********************100%%**********************]  1 of 1 completed"
     ]
    },
    {
     "name": "stdout",
     "output_type": "stream",
     "text": [
      "                Bond\n",
      "Date                \n",
      "2023-01-04 -0.018752\n",
      "2023-01-05 -0.005759\n",
      "2023-01-06 -0.027909\n",
      "2023-01-09 -0.011376\n",
      "2023-01-10  0.029315\n"
     ]
    },
    {
     "name": "stderr",
     "output_type": "stream",
     "text": [
      "\n"
     ]
    }
   ],
   "source": [
    "# Setting the timeframe for the data\n",
    "start_date = datetime.date(2023, 1, 1)\n",
    "end_date = datetime.date(2023, 12, 31)\n",
    "\n",
    "# Treasury Yield 30 Years\n",
    "bond_price = pd.DataFrame(web.DataReader('^TYX', start_date, end_date)[\"Adj Close\"])\n",
    "bond_return = bond_price.pct_change().dropna()\n",
    "bond_return = bond_return.rename(columns={\"Adj Close\": \"Bond\"})\n",
    "\n",
    "print(bond_return.head())"
   ]
  },
  {
   "cell_type": "code",
   "execution_count": 93,
   "id": "c001b9f3",
   "metadata": {},
   "outputs": [
    {
     "name": "stdout",
     "output_type": "stream",
     "text": [
      "    indicator_id region_id       date          value    change\n",
      "1           ZALL     99999 2005-02-28  166047.000000 -0.000427\n",
      "2           ZALL     99999 2005-03-31  166757.000000  0.004276\n",
      "3           ZALL     99999 2005-04-30  168061.000000  0.007820\n",
      "4           ZALL     99999 2005-05-31  170799.000000  0.016292\n",
      "5           ZALL     99999 2005-06-30  173373.000000  0.015070\n",
      "..           ...       ...        ...            ...       ...\n",
      "222         ZALL     99999 2023-07-31  475006.583756  0.000417\n",
      "223         ZALL     99999 2023-08-31  473796.644134 -0.002547\n",
      "224         ZALL     99999 2023-09-30  471415.057884 -0.005027\n",
      "225         ZALL     99999 2023-10-31  468537.272405 -0.006105\n",
      "226         ZALL     99999 2023-11-30  465555.180963 -0.006365\n",
      "\n",
      "[226 rows x 5 columns]\n"
     ]
    }
   ],
   "source": [
    "qd.ApiConfig.api_key = 'qQe_PTGQRatZoLWNRbKa'\n",
    "\n",
    "# Home value in Wenatchee\n",
    "# real_estate_indicator = qd.get_table('ZILLOW/INDICATORS')\n",
    "real_estate_price = qd.get_table('ZILLOW/DATA',indicator_id=['ZALL'], region_id = '99999').sort_values(by = 'date').reset_index(drop = True)\n",
    "real_estate_price['change'] = real_estate_price['value'].pct_change()\n",
    "real_estate_price.dropna(inplace = True)\n",
    "print(real_estate_price)\n",
    "# print(real_estate_indicator)"
   ]
  },
  {
   "cell_type": "code",
   "execution_count": null,
   "id": "a5cc5ae3",
   "metadata": {},
   "outputs": [],
   "source": []
  }
 ],
 "metadata": {
  "kernelspec": {
   "display_name": "Python 3 (ipykernel)",
   "language": "python",
   "name": "python3"
  },
  "language_info": {
   "codemirror_mode": {
    "name": "ipython",
    "version": 3
   },
   "file_extension": ".py",
   "mimetype": "text/x-python",
   "name": "python",
   "nbconvert_exporter": "python",
   "pygments_lexer": "ipython3",
   "version": "3.11.2"
  }
 },
 "nbformat": 4,
 "nbformat_minor": 5
}
